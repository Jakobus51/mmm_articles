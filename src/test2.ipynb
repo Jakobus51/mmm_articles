{
 "cells": [
  {
   "cell_type": "code",
   "execution_count": 5,
   "metadata": {},
   "outputs": [
    {
     "name": "stdout",
     "output_type": "stream",
     "text": [
      "<model.estimated_parameters.EstimatedParameters object at 0x106012ee0>\n"
     ]
    }
   ],
   "source": [
    "\n",
    "from pandas import read_csv, DataFrame\n",
    "from constants import SaveLocation as sl\n",
    "from model.estimated_parameters import EstimatedParameters\n",
    "\n",
    "random_state= 0\n",
    "ssm_df = read_csv(sl.SSM_100RUNS)\n",
    "ssm_df_single = ssm_df[ssm_df[\"state\"] == random_state]\n",
    "ep = EstimatedParameters(False)\n",
    "ep.set_via_array(ssm_df_single.values[0][1:])\n",
    "print(ep)"
   ]
  },
  {
   "cell_type": "code",
   "execution_count": 2,
   "metadata": {},
   "outputs": [
    {
     "name": "stdout",
     "output_type": "stream",
     "text": [
      "2023-10-10T16:45:18.786141Z\n"
     ]
    }
   ],
   "source": [
    "import datetime\n",
    "\n",
    "test = datetime.datetime.now().isoformat(\"T\") + \"Z\"\n",
    "print(test)"
   ]
  },
  {
   "cell_type": "code",
   "execution_count": null,
   "metadata": {},
   "outputs": [],
   "source": [
    "optimal_mean = df['optimal increase'].mean() * 100\n",
    "optimal_std = df['optimal increase'].std() * 100\n",
    "robyn_mean = df['robyn increase'].mean() * 100\n",
    "robyn_std = df['robyn increase'].std() * 100\n",
    "\n",
    "ten_perc = int(len(df) * 0.10)\n",
    "top_10_nrmse_rows = df.nsmallest(ten_perc, 'nrmse_test')\n",
    "top_10_rsq_rows = df.nlargest(ten_perc, 'rsq_test')\n",
    "top_10_decomp_rows = df.nsmallest(ten_perc, 'decomp.rssd')\n",
    "\n",
    "\n",
    "top_10_nrmse_mean = top_10_nrmse_rows[\"robyn increase\"].mean() *100\n",
    "top_10_nrmse_std = top_10_nrmse_rows[\"robyn increase\"].std() *100\n",
    "top_10_rsq_mean = top_10_rsq_rows[\"robyn increase\"].mean() *100\n",
    "top_10_rsq_std = top_10_rsq_rows[\"robyn increase\"].std() *100\n",
    "top_10_decomp_mean = top_10_decomp_rows[\"robyn increase\"].mean() *100\n",
    "top_10_decomp_std = top_10_decomp_rows[\"robyn increase\"].std() *100\n",
    " \n",
    "labels = [\"Optimal\", \n",
    "          \"Robyn\",\n",
    "          \"Top 10%\\n NRMSE\",\n",
    "          \"Top 10%\\nR2\",\n",
    "          \"Top 10%\\ndecomp.rssd\"]\n",
    "\n",
    "values = [optimal_mean, \n",
    "          robyn_mean,\n",
    "          top_10_nrmse_mean, \n",
    "          top_10_rsq_mean,\n",
    "          top_10_decomp_mean]\n",
    "errors = [optimal_std, \n",
    "          robyn_std,\n",
    "          top_10_nrmse_std, \n",
    "          top_10_rsq_std,\n",
    "          top_10_decomp_std]\n",
    "\n",
    "# Plot\n",
    "fig, ax = plt.subplots()\n",
    "bars = ax.bar(labels, values,yerr=errors, align='center', alpha=0.5, ecolor='black', capsize=10)\n",
    "\n",
    "# Set the y-axis ticks to reflect percentages\n",
    "ax.set_ylabel('Revenue increase due to Marketing(%)')\n",
    "ax.yaxis.grid(True)\n",
    "#plt.xticks(rotation = -45) # Rotates X-Axis Ticks by 45-degrees\n",
    "ax.set_title(\"Revenue increase after budget optimization\")\n",
    "plt.show()"
   ]
  },
  {
   "cell_type": "code",
   "execution_count": null,
   "metadata": {},
   "outputs": [],
   "source": [
    "import pandas as pd\n",
    "data = {'numbers': [1, 2, 3, 4, 5],}\n",
    "test = pd.DataFrame(data)\n",
    "for i in test.iterrows():\n",
    "    print(i)\n"
   ]
  },
  {
   "cell_type": "code",
   "execution_count": null,
   "metadata": {},
   "outputs": [],
   "source": [
    "from numpy import array_split\n",
    "from simulation_study.sshelpers import timing_run, parallel_ranges\n",
    "from time import sleep, perf_counter\n",
    "from helpers import time_function\n",
    "\n",
    "task_ranges = parallel_ranges(1, 1000, 8)\n",
    "\n",
    "tik = perf_counter()\n",
    "for index, value in enumerate(task_ranges[0]):\n",
    "    tik_tik = perf_counter()\n",
    "    sleep(2+ index)\n",
    "    run_single, run_total, run_avg = timing_run(tik,tik_tik, index)\n",
    "    print(f\"Finished: state {value} (time: {run_single}, total: {run_total}, avg: {run_avg})\")"
   ]
  }
 ],
 "metadata": {
  "kernelspec": {
   "display_name": "Python 3",
   "language": "python",
   "name": "python3"
  },
  "language_info": {
   "codemirror_mode": {
    "name": "ipython",
    "version": 3
   },
   "file_extension": ".py",
   "mimetype": "text/x-python",
   "name": "python",
   "nbconvert_exporter": "python",
   "pygments_lexer": "ipython3",
   "version": "3.9.1"
  },
  "orig_nbformat": 4
 },
 "nbformat": 4,
 "nbformat_minor": 2
}
